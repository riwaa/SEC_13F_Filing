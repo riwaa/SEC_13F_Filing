{
 "cells": [
  {
   "cell_type": "markdown",
   "metadata": {},
   "source": [
    "# This file parse CUSIP from files downloaded from SEC\n",
    "\n",
    "`links`: https://www.sec.gov/data/foiadocsfailsdatahtm"
   ]
  },
  {
   "cell_type": "code",
   "execution_count": 1,
   "metadata": {},
   "outputs": [],
   "source": [
    "import os\n",
    "\n",
    "import numpy as np\n",
    "import pandas as pd"
   ]
  },
  {
   "cell_type": "markdown",
   "metadata": {},
   "source": [
    "# Get CUSIP from SEC files"
   ]
  },
  {
   "cell_type": "code",
   "execution_count": 2,
   "metadata": {},
   "outputs": [
    {
     "name": "stdout",
     "output_type": "stream",
     "text": [
      "24 of text file loaded\n",
      "dataframe row count: 23125\n",
      "unique CUSIP is collected: 21659\n",
      "unique ticker is collected: 20802\n"
     ]
    }
   ],
   "source": [
    "file_folder = 'CUSIP/'\n",
    "\n",
    "text_files = [i for i in os.listdir(file_folder) if 'txt' in i]\n",
    "\n",
    "text_files = [pd.read_csv(file_folder + name, delimiter='|', encoding = \"ISO-8859-1\") for name in text_files]\n",
    "\n",
    "print('{} of text file loaded'.format(len(text_files)))\n",
    "\n",
    "\n",
    "df = pd.concat(text_files)\n",
    "\n",
    "df = df[['CUSIP', 'SYMBOL']]\n",
    "df = df.groupby(['CUSIP', 'SYMBOL']).count().reset_index(drop=False) # since there is no other column count return nonthing\n",
    "\n",
    "df.columns = ['CUSIP', 'Ticker']\n",
    "\n",
    "print('dataframe row count: {}'.format(df.shape[0]))\n",
    "print('unique CUSIP is collected: {}'.format(len(df.CUSIP.unique())))\n",
    "print('unique ticker is collected: {}'.format(len(df.Ticker.unique())))"
   ]
  },
  {
   "cell_type": "markdown",
   "metadata": {},
   "source": [
    "# Get CUSIP from Previously parsed files"
   ]
  },
  {
   "cell_type": "code",
   "execution_count": 3,
   "metadata": {},
   "outputs": [
    {
     "name": "stdout",
     "output_type": "stream",
     "text": [
      "dataframe row count: 990\n",
      "unique CUSIP is collected: 988\n",
      "unique ticker is collected: 964\n"
     ]
    }
   ],
   "source": [
    "df_1 = pd.read_csv('../0. Archive/cusip_ticker.csv')\n",
    "\n",
    "print('dataframe row count: {}'.format(df_1.shape[0]))\n",
    "print('unique CUSIP is collected: {}'.format(len(df_1.CUSIP.unique())))\n",
    "print('unique ticker is collected: {}'.format(len(df_1.Ticker.unique())))"
   ]
  },
  {
   "cell_type": "markdown",
   "metadata": {},
   "source": [
    "# Input in some CUSIP where I cannot automaticlly find corresponding tickers"
   ]
  },
  {
   "cell_type": "code",
   "execution_count": 4,
   "metadata": {},
   "outputs": [
    {
     "name": "stdout",
     "output_type": "stream",
     "text": [
      "dataframe row count: 9\n",
      "unique CUSIP is collected: 9\n",
      "unique ticker is collected: 7\n"
     ]
    }
   ],
   "source": [
    "CUSIP = {'056752908': 'BIDU', '86732YAC3': 'SUNE', \n",
    "         '88338TAB0': 'TBPH', '165167BZ9': 'CHK', \n",
    "         '165167CA3': 'CHK', '212894117': 'CPAA', \n",
    "         '60505104': 'BAC', '60505146': 'BAC', \n",
    "         '84670108': 'BRK.A'}\n",
    "\n",
    "\n",
    "df_2 = pd.DataFrame({'CUSIP': list(CUSIP.keys()), 'Ticker': list(CUSIP.values())})\n",
    "\n",
    "print('dataframe row count: {}'.format(df_2.shape[0]))\n",
    "print('unique CUSIP is collected: {}'.format(len(df_2.CUSIP.unique())))\n",
    "print('unique ticker is collected: {}'.format(len(df_2.Ticker.unique())))"
   ]
  },
  {
   "cell_type": "markdown",
   "metadata": {},
   "source": [
    "### Merge the files together"
   ]
  },
  {
   "cell_type": "code",
   "execution_count": 5,
   "metadata": {},
   "outputs": [
    {
     "name": "stdout",
     "output_type": "stream",
     "text": [
      "dataframe row count: 23158\n",
      "unique CUSIP is collected: 21676\n",
      "unique ticker is collected: 20808\n"
     ]
    }
   ],
   "source": [
    "df = pd.concat([df, df_1, df_2])\n",
    "\n",
    "df = df.groupby(['CUSIP', 'Ticker']).count().reset_index(drop=False)\n",
    "\n",
    "print('dataframe row count: {}'.format(df.shape[0]))\n",
    "print('unique CUSIP is collected: {}'.format(len(df.CUSIP.unique())))\n",
    "print('unique ticker is collected: {}'.format(len(df.Ticker.unique())))"
   ]
  },
  {
   "cell_type": "markdown",
   "metadata": {},
   "source": [
    "### Clean the data frame"
   ]
  },
  {
   "cell_type": "code",
   "execution_count": 6,
   "metadata": {},
   "outputs": [],
   "source": [
    "def sort_by_len(df, col):\n",
    "    \n",
    "    ticker_index = df[col].apply(len).sort_values(ascending=False).index[0]\n",
    "    return(df.loc[ticker_index, [col]])"
   ]
  },
  {
   "cell_type": "code",
   "execution_count": 7,
   "metadata": {},
   "outputs": [
    {
     "name": "stdout",
     "output_type": "stream",
     "text": [
      "dataframe row count: 21676\n",
      "unique CUSIP is collected: 21676\n",
      "unique ticker is collected: 19840\n"
     ]
    }
   ],
   "source": [
    "df.Ticker = df.Ticker.replace({'BRKB': 'BRK.B', 'BRKA': 'BRK.A'}) # standardized BRK.B and BRK.A\n",
    "\n",
    "df = df.groupby(['CUSIP']).apply(lambda x: sort_by_len(x, 'Ticker')).reset_index(drop=False) # get unique ticker by CUSIP\n",
    "\n",
    "print('dataframe row count: {}'.format(df.shape[0]))\n",
    "print('unique CUSIP is collected: {}'.format(len(df.CUSIP.unique())))\n",
    "print('unique ticker is collected: {}'.format(len(df.Ticker.unique())))"
   ]
  },
  {
   "cell_type": "code",
   "execution_count": 8,
   "metadata": {},
   "outputs": [],
   "source": [
    "df.to_csv(file_folder + 'CUSIP.csv', index=False)"
   ]
  }
 ],
 "metadata": {
  "kernelspec": {
   "display_name": "Python 3",
   "language": "python",
   "name": "python3"
  },
  "language_info": {
   "codemirror_mode": {
    "name": "ipython",
    "version": 3
   },
   "file_extension": ".py",
   "mimetype": "text/x-python",
   "name": "python",
   "nbconvert_exporter": "python",
   "pygments_lexer": "ipython3",
   "version": "3.7.4"
  }
 },
 "nbformat": 4,
 "nbformat_minor": 2
}
